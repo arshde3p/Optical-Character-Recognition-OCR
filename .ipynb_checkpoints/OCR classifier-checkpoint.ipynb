{
 "cells": [
  {
   "cell_type": "code",
   "execution_count": null,
   "metadata": {},
   "outputs": [],
   "source": [
    "import numpy as np \n",
    "from sklearn import datasets\n",
    "from skimage.feature import hog\n",
    "from collections import Counter\n",
    "from sklearn import svm,preprocessing\n",
    "from sklearn.svm import LinearSVC\n",
    "import pickle\n",
    "import pandas as pd\n",
    "\n",
    "df = pd.read_csv('optical character recognition OCR/dataset/mnist_train.csv')\n",
    "features = np.array(df.drop(['label'],1))\n",
    "labels = np.array(df['label'])\n",
    "\n",
    "# now for feature extraction we are using hog transformation\n",
    "list_hog_fd = []\n",
    "for feature in features:\n",
    "    fd = hog(feature.reshape((28,28)), orientations=9 , pixels_per_cell=(14,14),cells_per_block=(1, 1), visualize=False)\n",
    "    list_hog_fd.append(fd)\n",
    "hog_features = np.array(list_hog_fd,'float64')\n",
    "print(\"count of features in dataset \", Counter(labels))\n",
    "\n",
    "clf = LinearSVC()\n",
    "clf.fit(features,labels)\n",
    "\n",
    "with open('OCR.pickle', 'wb') as f:\n",
    "    pickle.dump(clf,f)\n",
    "# df1 = pd.read_csv('dataset/mnist_test.csv')\n",
    "# X_test = np.array(df1.drop(['label'],1))\n",
    "# y_test = np.array(df1['label'])\n",
    "# accuracy = clf.score(X_test,y_test)\n",
    "# print(accuracy)"
   ]
  },
  {
   "cell_type": "code",
   "execution_count": null,
   "metadata": {},
   "outputs": [],
   "source": []
  },
  {
   "cell_type": "code",
   "execution_count": null,
   "metadata": {},
   "outputs": [],
   "source": []
  }
 ],
 "metadata": {
  "kernelspec": {
   "display_name": "Python 3",
   "language": "python",
   "name": "python3"
  },
  "language_info": {
   "codemirror_mode": {
    "name": "ipython",
    "version": 3
   },
   "file_extension": ".py",
   "mimetype": "text/x-python",
   "name": "python",
   "nbconvert_exporter": "python",
   "pygments_lexer": "ipython3",
   "version": "3.7.0"
  }
 },
 "nbformat": 4,
 "nbformat_minor": 2
}
